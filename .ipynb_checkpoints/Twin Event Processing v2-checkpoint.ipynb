{
 "cells": [
  {
   "cell_type": "markdown",
   "metadata": {
    "nbpresent": {
     "id": "066fe798-0bed-4400-b75d-161345c2a7a3"
    }
   },
   "source": [
    "# Twin Events Processor\n",
    "  \n",
    "**Requirements**: Twin events file .docx in the participant's folder, named according to processing documentation  \n",
    "**Input**: .docx mentioned above  \n",
    "**Output**:\n",
    "1. .csv (if export=True) of the correct sequence of events as well as each event's point latency to be used in BrainVision Analyzer\n",
    "2. .csv (if export=True) of any corrections that were made to the sequence of events"
   ]
  },
  {
   "cell_type": "markdown",
   "metadata": {
    "nbpresent": {
     "id": "ee7b1ec7-1d0b-4f50-9799-7ea651a98957"
    }
   },
   "source": [
    "# Import packages"
   ]
  },
  {
   "cell_type": "code",
   "execution_count": 12,
   "metadata": {
    "collapsed": false,
    "nbpresent": {
     "id": "42830c7f-9bd5-4f1f-ac63-832afb58207e"
    }
   },
   "outputs": [],
   "source": [
    "# for finding the right file and manipulating datetime objects\n",
    "import glob\n",
    "from datetime import timedelta\n",
    "import csv\n",
    "\n",
    "# for data structures and tools\n",
    "import numpy as np\n",
    "import pandas as pd\n",
    "\n",
    "# for making plots\n",
    "import matplotlib.pyplot as plt\n",
    "plt.style.use('ggplot')\n",
    "%matplotlib inline\n",
    "\n",
    "# for reading microsoft word files\n",
    "import docx"
   ]
  },
  {
   "cell_type": "markdown",
   "metadata": {
    "nbpresent": {
     "id": "e47f8130-9be5-4ede-b92c-f3b2aaa1a6d8"
    }
   },
   "source": [
    "# Initial Editable Parameters"
   ]
  },
  {
   "cell_type": "code",
   "execution_count": 48,
   "metadata": {
    "collapsed": true,
    "nbpresent": {
     "id": "eb8f5a77-e8bd-4046-be61-57c242c9efec"
    }
   },
   "outputs": [],
   "source": [
    "# Edit this to match the participant number\n",
    "participant_num = 3\n",
    "sart_sequence = 'B'\n",
    "\n",
    "# Export? set to True to save output as csv\n",
    "export = True"
   ]
  },
  {
   "cell_type": "markdown",
   "metadata": {
    "nbpresent": {
     "id": "5f630fdd-330a-441e-bdaf-3dd67949eb2a"
    }
   },
   "source": [
    "# Initial Setup for Processing"
   ]
  },
  {
   "cell_type": "code",
   "execution_count": 49,
   "metadata": {
    "collapsed": false,
    "nbpresent": {
     "id": "071772ab-213b-4980-abfc-7406efb2b219"
    }
   },
   "outputs": [
    {
     "name": "stdout",
     "output_type": "stream",
     "text": [
      "ANALYZING FILE: X:/PROJECTS/14. Waking States and Memory/Data/03\\03eventsBI.docx\n"
     ]
    }
   ],
   "source": [
    "# These are the values coded for events\n",
    "start_val = '100'\n",
    "end_val = '101'\n",
    "stim_val = '20'\n",
    "block_val = '30'\n",
    "break_val = '40'\n",
    "\n",
    "pathdict = {'pNum': participant_num, 'seq': sart_sequence}\n",
    "base_path = 'X:/PROJECTS/14. Waking States and Memory/Data/'\n",
    "\n",
    "# Create a dataframe containing the correct sequence of events. We want to remove the break_val's because they are not\n",
    "# logged to twin, only to the eyetracker log\n",
    "correct_seq = pd.DataFrame.from_csv(path= base_path + 'correct_seq.csv')\n",
    "seqCol = 'seq' + sart_sequence\n",
    "correct_seq[seqCol] = correct_seq[seqCol].astype(str)\n",
    "correct_seq = correct_seq.loc[correct_seq[seqCol] != break_val,].reset_index(drop=True)\n",
    "\n",
    "# This is the path of the event file to be analyzed\n",
    "participant_path = base_path + '%(pNum)02d' % pathdict\n",
    "docx_path = glob.glob(participant_path + '/%(pNum)02devents%(seq)s[SI].docx' % pathdict)[0]\n",
    "print('ANALYZING FILE: ' + docx_path)"
   ]
  },
  {
   "cell_type": "code",
   "execution_count": 50,
   "metadata": {
    "collapsed": false,
    "nbpresent": {
     "id": "5bdef2ce-8163-4e79-8d59-0cee7ec3dffb"
    }
   },
   "outputs": [],
   "source": [
    "# These two arrays will store the timestamp and event value for each event\n",
    "time_array = []\n",
    "event_array = []\n",
    "\n",
    "# Open the event Microsoft word document\n",
    "doc = docx.Document(docx_path)\n",
    "\n",
    "# Read each line extracing the time and event from each line\n",
    "for line in doc.paragraphs:\n",
    "    if not line.text:\n",
    "        continue\n",
    "    else:\n",
    "        temp_cols = line.text.split(',')\n",
    "        try:\n",
    "            time_array.append(temp_cols[1])\n",
    "            event_array.append(temp_cols[2])\n",
    "        except IndexError:\n",
    "            print(\"There is a problem with the event docx file.\\nOpen it in Word and delete any funky characters at the end of the document\")\n",
    "            raise Exception(\"FIX THIS BEFORE CONTINUING\")\n",
    "        \n",
    "#Make sure the number of events is equal to the number of times\n",
    "if len(time_array) != len(event_array):\n",
    "    raise Exception('The number of times and events is not equal! Check the Word doc.')\n",
    "\n",
    "# Make a dataframe out of the event and time data from the word doc\n",
    "event_data = {'time': time_array, 'event': event_array}\n",
    "event_df = pd.DataFrame(data=event_data)\n",
    "event_df.time = pd.to_datetime(event_df.time.map(str.strip))\n",
    "\n",
    "# Get the time at event 'Start Recording'. Used later to calculate latency\n",
    "if event_df.loc[0, 'event'] == 'Start Recording':\n",
    "    eeg_start_recording = event_df.loc[0, 'time']\n",
    "else:\n",
    "    ex = \"The first event isn't 'Start Recording'. Check the event word doc./nIf there is some other event that comes before it, remove it from the word doc.\\nIf 'Start Recording' is missing entirely, try reexporting from TWin.\"\n",
    "    raise Exception(\"The first event isn't 'Start Recording'...\")\n",
    "\n",
    "# Remove rows that arent events (events that are not numbers, eg 'New Montage', 'Start Recording', etc...)\n",
    "event_df = event_df[~event_df.event.str.contains(r'\\D')]\n",
    "event_df = event_df.reset_index(drop=True)\n",
    "\n",
    "# Add a column, 'estimated', to indicate whether an event was missing and had to be inserted/estimated\n",
    "event_df['estimated'] = False"
   ]
  },
  {
   "cell_type": "markdown",
   "metadata": {
    "nbpresent": {
     "id": "275f0353-f715-4eec-8c2b-7ed237fd0497"
    }
   },
   "source": [
    "## Correction Functions"
   ]
  },
  {
   "cell_type": "code",
   "execution_count": 51,
   "metadata": {
    "collapsed": true,
    "nbpresent": {
     "id": "2826b7f6-2f9f-467c-8b8e-214d2931f90b"
    }
   },
   "outputs": [],
   "source": [
    "def insertStartEvent(df):\n",
    "    new_time = df.get_value(0, 'time')\n",
    "    prepended_df = pd.DataFrame([[int(start_val), new_time, True]], columns=['event', 'time', 'estimated'])\n",
    "    df = pd.concat([prepended_df, df])\n",
    "    df = df.reset_index(drop=True)\n",
    "    \n",
    "    log_start_missing = True\n",
    "    \n",
    "    return df\n",
    "\n",
    "def insertNewEvent(df, new_val_index, new_val):\n",
    "    temp_upper = df.loc[0:new_val_index-1]\n",
    "    temp_lower = df.loc[new_val_index:]\n",
    "    if new_val == block_val:\n",
    "        new_time = df.get_value(new_val_index, 'time') - timedelta(milliseconds=600)\n",
    "    else:\n",
    "        new_time = df.get_value(new_val_index-1, 'time')\n",
    "    new_row = pd.DataFrame([[new_val, new_time, True]], columns=['event', 'time', 'estimated'])\n",
    "    df = pd.concat([temp_upper, new_row, temp_lower])\n",
    "    df = df.reset_index(drop=True)\n",
    "    \n",
    "    log_inserted_vals.append((new_val_index, new_val))\n",
    "    \n",
    "    return df\n",
    "\n",
    "def completeTerminatedFile(df, early_end_index):\n",
    "    log_num_of_events_appended = len(correct_seq) - early_end_index\n",
    "    for j in range(early_end_index, len(correct_seq)):\n",
    "        event_df.loc[j, 'event'] = correct_seq.loc[j, 'event']\n",
    "        event_df.loc[j, 'estimated'] = True\n",
    "    return event_df\n",
    "\n",
    "# Variables used to track corrections made\n",
    "log_start_missing = False\n",
    "log_inserted_vals = []\n",
    "log_drop_after = False\n",
    "log_ends_early = False\n",
    "log_num_of_events_appended = 0"
   ]
  },
  {
   "cell_type": "markdown",
   "metadata": {
    "nbpresent": {
     "id": "85d74068-60de-4aa5-93b0-e8a2500c66e0"
    }
   },
   "source": [
    "## Check and Correct Events\n",
    "Go through every event in the file and compare it to the correct sequence. If there is a mismatch, it will print it out and then correct it (if it knows how). Corrected/inserted events will equal True in the 'Estimated' column (because they were calculated and are not from the actual raw data.  \n",
    "TODO: make sure the corrections are logged so the export will work properly."
   ]
  },
  {
   "cell_type": "code",
   "execution_count": 52,
   "metadata": {
    "collapsed": false,
    "nbpresent": {
     "id": "f24879a7-3ef6-429b-a49a-4c7349567687"
    },
    "scrolled": true
   },
   "outputs": [
    {
     "name": "stdout",
     "output_type": "stream",
     "text": [
      "--------CHECKING AND EDITING--------\n",
      "------DONE CHECKING AND EDITING------\n"
     ]
    }
   ],
   "source": [
    "# Don't edit anything here\n",
    "\n",
    "block_location = 0\n",
    "print(\"--------CHECKING AND EDITING--------\")\n",
    "for i in range(len(correct_seq)):\n",
    "    try: event_df_cell = event_df.get_value(i, 'event')\n",
    "    except KeyError:\n",
    "        print('### MISMATCH ###')\n",
    "        print('Current file terminates early')\n",
    "        event_df = completeTerminatedFile(event_df, i)\n",
    "        print(\"Fixed...\")\n",
    "        \n",
    "    correct_event = correct_seq.get_value(i, seqCol)\n",
    "    \n",
    "    if event_df_cell == correct_event:\n",
    "        if correct_event == block_val:\n",
    "            block_location += 1\n",
    "        continue\n",
    "    else:\n",
    "        print('### MISMATCH ###')\n",
    "        if correct_event == start_val:\n",
    "            print('Current file is missing the start event.')\n",
    "            print(\"Current file shows %s when it should be %s.\" %(event_df_cell, correct_event))\n",
    "            event_df = insertStartEvent(event_df)\n",
    "            print('Fixed...')\n",
    "        elif correct_event == block_val:\n",
    "            print('Current file is missing a block event at index ' + str(i))\n",
    "            print(\"Current file shows %s when it should be %s.\" %(event_df_cell, correct_event))\n",
    "            event_df = insertNewEvent(event_df, i, block_val)\n",
    "            print('Fixed...')\n",
    "        elif correct_event == stim_val:\n",
    "            print('Current file is missing a stimulus event at index ' + str(i))\n",
    "            print(\"Current file shows %s when it should be %s.\" %(event_df_cell, correct_event))\n",
    "            event_df = insertNewEvent(event_df, i, stim_val)\n",
    "            print('Fixed...')\n",
    "        else:\n",
    "            print('UH OH. This is an error that is unaccounted for... Ted needs to fix this...')\n",
    "            print('Here is some info about the error:')\n",
    "            print(\"Incorrect event at index %d, in block %d\" %(i, block_location))\n",
    "            print(\"Current file shows %s when it should be %s.\" %(event_df.get_value(i, 'event'), correct_seq.get_value(i, seqCol)))\n",
    "            print(event_df.loc[i-3:i+3, 'event'])\n",
    "            print(correct_seq.loc[i-3:i+3, seqCol])\n",
    "            break\n",
    "\n",
    "# Check for extra events after the stop event and remove them\n",
    "stop_index = event_df.loc[pd.to_numeric(event_df['event']) == 101].index.tolist()[0] # find the index of the stop event\n",
    "rows_to_drop = range(stop_index+1,len(event_df.index)) # make an array from stop index to the end of the length of the df\n",
    "# If there are rows to drop, drop them\n",
    "if rows_to_drop:\n",
    "    print('### ERROR ###')\n",
    "    print('Current file had extra events after the stop event')\n",
    "    event_df = event_df.drop(rows_to_drop)\n",
    "    print('Fixed...')\n",
    "    \n",
    "    log_drop_after = True\n",
    "\n",
    "print(\"------DONE CHECKING AND EDITING------\")"
   ]
  },
  {
   "cell_type": "code",
   "execution_count": 53,
   "metadata": {
    "collapsed": false,
    "nbpresent": {
     "id": "ebec961b-102e-4b97-b537-bbbc5d002852"
    },
    "scrolled": true
   },
   "outputs": [
    {
     "data": {
      "text/html": [
       "<div>\n",
       "<table border=\"1\" class=\"dataframe\">\n",
       "  <thead>\n",
       "    <tr style=\"text-align: right;\">\n",
       "      <th></th>\n",
       "      <th>event</th>\n",
       "      <th>time</th>\n",
       "      <th>estimated</th>\n",
       "    </tr>\n",
       "  </thead>\n",
       "  <tbody>\n",
       "    <tr>\n",
       "      <th>0</th>\n",
       "      <td>100</td>\n",
       "      <td>2017-07-14 13:52:53.710</td>\n",
       "      <td>False</td>\n",
       "    </tr>\n",
       "    <tr>\n",
       "      <th>1</th>\n",
       "      <td>30</td>\n",
       "      <td>2017-07-14 13:52:54.310</td>\n",
       "      <td>False</td>\n",
       "    </tr>\n",
       "    <tr>\n",
       "      <th>2</th>\n",
       "      <td>20</td>\n",
       "      <td>2017-07-14 13:52:59.930</td>\n",
       "      <td>False</td>\n",
       "    </tr>\n",
       "    <tr>\n",
       "      <th>3</th>\n",
       "      <td>20</td>\n",
       "      <td>2017-07-14 13:53:05.590</td>\n",
       "      <td>False</td>\n",
       "    </tr>\n",
       "    <tr>\n",
       "      <th>4</th>\n",
       "      <td>20</td>\n",
       "      <td>2017-07-14 13:53:11.250</td>\n",
       "      <td>False</td>\n",
       "    </tr>\n",
       "    <tr>\n",
       "      <th>5</th>\n",
       "      <td>20</td>\n",
       "      <td>2017-07-14 13:53:16.870</td>\n",
       "      <td>False</td>\n",
       "    </tr>\n",
       "    <tr>\n",
       "      <th>6</th>\n",
       "      <td>20</td>\n",
       "      <td>2017-07-14 13:53:22.470</td>\n",
       "      <td>False</td>\n",
       "    </tr>\n",
       "    <tr>\n",
       "      <th>7</th>\n",
       "      <td>20</td>\n",
       "      <td>2017-07-14 13:53:28.070</td>\n",
       "      <td>False</td>\n",
       "    </tr>\n",
       "    <tr>\n",
       "      <th>8</th>\n",
       "      <td>20</td>\n",
       "      <td>2017-07-14 13:53:33.670</td>\n",
       "      <td>False</td>\n",
       "    </tr>\n",
       "    <tr>\n",
       "      <th>9</th>\n",
       "      <td>20</td>\n",
       "      <td>2017-07-14 13:53:39.470</td>\n",
       "      <td>False</td>\n",
       "    </tr>\n",
       "    <tr>\n",
       "      <th>10</th>\n",
       "      <td>20</td>\n",
       "      <td>2017-07-14 13:53:45.070</td>\n",
       "      <td>False</td>\n",
       "    </tr>\n",
       "    <tr>\n",
       "      <th>11</th>\n",
       "      <td>20</td>\n",
       "      <td>2017-07-14 13:53:50.670</td>\n",
       "      <td>False</td>\n",
       "    </tr>\n",
       "    <tr>\n",
       "      <th>12</th>\n",
       "      <td>20</td>\n",
       "      <td>2017-07-14 13:53:56.270</td>\n",
       "      <td>False</td>\n",
       "    </tr>\n",
       "    <tr>\n",
       "      <th>13</th>\n",
       "      <td>20</td>\n",
       "      <td>2017-07-14 13:54:02.070</td>\n",
       "      <td>False</td>\n",
       "    </tr>\n",
       "    <tr>\n",
       "      <th>14</th>\n",
       "      <td>20</td>\n",
       "      <td>2017-07-14 13:54:07.670</td>\n",
       "      <td>False</td>\n",
       "    </tr>\n",
       "    <tr>\n",
       "      <th>15</th>\n",
       "      <td>20</td>\n",
       "      <td>2017-07-14 13:54:13.270</td>\n",
       "      <td>False</td>\n",
       "    </tr>\n",
       "    <tr>\n",
       "      <th>16</th>\n",
       "      <td>20</td>\n",
       "      <td>2017-07-14 13:54:18.890</td>\n",
       "      <td>False</td>\n",
       "    </tr>\n",
       "    <tr>\n",
       "      <th>17</th>\n",
       "      <td>30</td>\n",
       "      <td>2017-07-14 13:54:29.570</td>\n",
       "      <td>False</td>\n",
       "    </tr>\n",
       "    <tr>\n",
       "      <th>18</th>\n",
       "      <td>20</td>\n",
       "      <td>2017-07-14 13:54:30.590</td>\n",
       "      <td>False</td>\n",
       "    </tr>\n",
       "    <tr>\n",
       "      <th>19</th>\n",
       "      <td>20</td>\n",
       "      <td>2017-07-14 13:54:36.270</td>\n",
       "      <td>False</td>\n",
       "    </tr>\n",
       "    <tr>\n",
       "      <th>20</th>\n",
       "      <td>20</td>\n",
       "      <td>2017-07-14 13:54:41.930</td>\n",
       "      <td>False</td>\n",
       "    </tr>\n",
       "    <tr>\n",
       "      <th>21</th>\n",
       "      <td>20</td>\n",
       "      <td>2017-07-14 13:54:47.370</td>\n",
       "      <td>False</td>\n",
       "    </tr>\n",
       "    <tr>\n",
       "      <th>22</th>\n",
       "      <td>20</td>\n",
       "      <td>2017-07-14 13:54:53.190</td>\n",
       "      <td>False</td>\n",
       "    </tr>\n",
       "    <tr>\n",
       "      <th>23</th>\n",
       "      <td>20</td>\n",
       "      <td>2017-07-14 13:54:58.810</td>\n",
       "      <td>False</td>\n",
       "    </tr>\n",
       "    <tr>\n",
       "      <th>24</th>\n",
       "      <td>20</td>\n",
       "      <td>2017-07-14 13:55:04.430</td>\n",
       "      <td>False</td>\n",
       "    </tr>\n",
       "    <tr>\n",
       "      <th>25</th>\n",
       "      <td>20</td>\n",
       "      <td>2017-07-14 13:55:10.110</td>\n",
       "      <td>False</td>\n",
       "    </tr>\n",
       "    <tr>\n",
       "      <th>26</th>\n",
       "      <td>20</td>\n",
       "      <td>2017-07-14 13:55:15.730</td>\n",
       "      <td>False</td>\n",
       "    </tr>\n",
       "    <tr>\n",
       "      <th>27</th>\n",
       "      <td>30</td>\n",
       "      <td>2017-07-14 13:55:25.390</td>\n",
       "      <td>False</td>\n",
       "    </tr>\n",
       "    <tr>\n",
       "      <th>28</th>\n",
       "      <td>20</td>\n",
       "      <td>2017-07-14 13:55:26.410</td>\n",
       "      <td>False</td>\n",
       "    </tr>\n",
       "    <tr>\n",
       "      <th>29</th>\n",
       "      <td>20</td>\n",
       "      <td>2017-07-14 13:55:32.010</td>\n",
       "      <td>False</td>\n",
       "    </tr>\n",
       "    <tr>\n",
       "      <th>...</th>\n",
       "      <td>...</td>\n",
       "      <td>...</td>\n",
       "      <td>...</td>\n",
       "    </tr>\n",
       "    <tr>\n",
       "      <th>322</th>\n",
       "      <td>20</td>\n",
       "      <td>2017-07-14 14:25:19.950</td>\n",
       "      <td>False</td>\n",
       "    </tr>\n",
       "    <tr>\n",
       "      <th>323</th>\n",
       "      <td>20</td>\n",
       "      <td>2017-07-14 14:25:25.570</td>\n",
       "      <td>False</td>\n",
       "    </tr>\n",
       "    <tr>\n",
       "      <th>324</th>\n",
       "      <td>20</td>\n",
       "      <td>2017-07-14 14:25:31.170</td>\n",
       "      <td>False</td>\n",
       "    </tr>\n",
       "    <tr>\n",
       "      <th>325</th>\n",
       "      <td>20</td>\n",
       "      <td>2017-07-14 14:25:36.810</td>\n",
       "      <td>False</td>\n",
       "    </tr>\n",
       "    <tr>\n",
       "      <th>326</th>\n",
       "      <td>20</td>\n",
       "      <td>2017-07-14 14:25:42.450</td>\n",
       "      <td>False</td>\n",
       "    </tr>\n",
       "    <tr>\n",
       "      <th>327</th>\n",
       "      <td>20</td>\n",
       "      <td>2017-07-14 14:25:48.270</td>\n",
       "      <td>False</td>\n",
       "    </tr>\n",
       "    <tr>\n",
       "      <th>328</th>\n",
       "      <td>20</td>\n",
       "      <td>2017-07-14 14:25:53.870</td>\n",
       "      <td>False</td>\n",
       "    </tr>\n",
       "    <tr>\n",
       "      <th>329</th>\n",
       "      <td>20</td>\n",
       "      <td>2017-07-14 14:25:59.470</td>\n",
       "      <td>False</td>\n",
       "    </tr>\n",
       "    <tr>\n",
       "      <th>330</th>\n",
       "      <td>30</td>\n",
       "      <td>2017-07-14 14:26:10.330</td>\n",
       "      <td>False</td>\n",
       "    </tr>\n",
       "    <tr>\n",
       "      <th>331</th>\n",
       "      <td>20</td>\n",
       "      <td>2017-07-14 14:26:11.350</td>\n",
       "      <td>False</td>\n",
       "    </tr>\n",
       "    <tr>\n",
       "      <th>332</th>\n",
       "      <td>20</td>\n",
       "      <td>2017-07-14 14:26:16.970</td>\n",
       "      <td>False</td>\n",
       "    </tr>\n",
       "    <tr>\n",
       "      <th>333</th>\n",
       "      <td>20</td>\n",
       "      <td>2017-07-14 14:26:22.570</td>\n",
       "      <td>False</td>\n",
       "    </tr>\n",
       "    <tr>\n",
       "      <th>334</th>\n",
       "      <td>20</td>\n",
       "      <td>2017-07-14 14:26:28.190</td>\n",
       "      <td>False</td>\n",
       "    </tr>\n",
       "    <tr>\n",
       "      <th>335</th>\n",
       "      <td>20</td>\n",
       "      <td>2017-07-14 14:26:33.990</td>\n",
       "      <td>False</td>\n",
       "    </tr>\n",
       "    <tr>\n",
       "      <th>336</th>\n",
       "      <td>20</td>\n",
       "      <td>2017-07-14 14:26:39.610</td>\n",
       "      <td>False</td>\n",
       "    </tr>\n",
       "    <tr>\n",
       "      <th>337</th>\n",
       "      <td>20</td>\n",
       "      <td>2017-07-14 14:26:45.230</td>\n",
       "      <td>False</td>\n",
       "    </tr>\n",
       "    <tr>\n",
       "      <th>338</th>\n",
       "      <td>20</td>\n",
       "      <td>2017-07-14 14:26:50.890</td>\n",
       "      <td>False</td>\n",
       "    </tr>\n",
       "    <tr>\n",
       "      <th>339</th>\n",
       "      <td>20</td>\n",
       "      <td>2017-07-14 14:26:56.490</td>\n",
       "      <td>False</td>\n",
       "    </tr>\n",
       "    <tr>\n",
       "      <th>340</th>\n",
       "      <td>20</td>\n",
       "      <td>2017-07-14 14:27:02.290</td>\n",
       "      <td>False</td>\n",
       "    </tr>\n",
       "    <tr>\n",
       "      <th>341</th>\n",
       "      <td>20</td>\n",
       "      <td>2017-07-14 14:27:07.790</td>\n",
       "      <td>False</td>\n",
       "    </tr>\n",
       "    <tr>\n",
       "      <th>342</th>\n",
       "      <td>20</td>\n",
       "      <td>2017-07-14 14:27:13.590</td>\n",
       "      <td>False</td>\n",
       "    </tr>\n",
       "    <tr>\n",
       "      <th>343</th>\n",
       "      <td>20</td>\n",
       "      <td>2017-07-14 14:27:19.250</td>\n",
       "      <td>False</td>\n",
       "    </tr>\n",
       "    <tr>\n",
       "      <th>344</th>\n",
       "      <td>20</td>\n",
       "      <td>2017-07-14 14:27:24.890</td>\n",
       "      <td>False</td>\n",
       "    </tr>\n",
       "    <tr>\n",
       "      <th>345</th>\n",
       "      <td>20</td>\n",
       "      <td>2017-07-14 14:27:30.490</td>\n",
       "      <td>False</td>\n",
       "    </tr>\n",
       "    <tr>\n",
       "      <th>346</th>\n",
       "      <td>20</td>\n",
       "      <td>2017-07-14 14:27:36.110</td>\n",
       "      <td>False</td>\n",
       "    </tr>\n",
       "    <tr>\n",
       "      <th>347</th>\n",
       "      <td>20</td>\n",
       "      <td>2017-07-14 14:27:41.710</td>\n",
       "      <td>False</td>\n",
       "    </tr>\n",
       "    <tr>\n",
       "      <th>348</th>\n",
       "      <td>20</td>\n",
       "      <td>2017-07-14 14:27:47.510</td>\n",
       "      <td>False</td>\n",
       "    </tr>\n",
       "    <tr>\n",
       "      <th>349</th>\n",
       "      <td>30</td>\n",
       "      <td>2017-07-14 14:27:59.930</td>\n",
       "      <td>False</td>\n",
       "    </tr>\n",
       "    <tr>\n",
       "      <th>350</th>\n",
       "      <td>20</td>\n",
       "      <td>2017-07-14 14:28:01.130</td>\n",
       "      <td>False</td>\n",
       "    </tr>\n",
       "    <tr>\n",
       "      <th>351</th>\n",
       "      <td>101</td>\n",
       "      <td>2017-07-14 14:28:01.130</td>\n",
       "      <td>False</td>\n",
       "    </tr>\n",
       "  </tbody>\n",
       "</table>\n",
       "<p>352 rows × 3 columns</p>\n",
       "</div>"
      ],
      "text/plain": [
       "    event                    time estimated\n",
       "0     100 2017-07-14 13:52:53.710     False\n",
       "1      30 2017-07-14 13:52:54.310     False\n",
       "2      20 2017-07-14 13:52:59.930     False\n",
       "3      20 2017-07-14 13:53:05.590     False\n",
       "4      20 2017-07-14 13:53:11.250     False\n",
       "5      20 2017-07-14 13:53:16.870     False\n",
       "6      20 2017-07-14 13:53:22.470     False\n",
       "7      20 2017-07-14 13:53:28.070     False\n",
       "8      20 2017-07-14 13:53:33.670     False\n",
       "9      20 2017-07-14 13:53:39.470     False\n",
       "10     20 2017-07-14 13:53:45.070     False\n",
       "11     20 2017-07-14 13:53:50.670     False\n",
       "12     20 2017-07-14 13:53:56.270     False\n",
       "13     20 2017-07-14 13:54:02.070     False\n",
       "14     20 2017-07-14 13:54:07.670     False\n",
       "15     20 2017-07-14 13:54:13.270     False\n",
       "16     20 2017-07-14 13:54:18.890     False\n",
       "17     30 2017-07-14 13:54:29.570     False\n",
       "18     20 2017-07-14 13:54:30.590     False\n",
       "19     20 2017-07-14 13:54:36.270     False\n",
       "20     20 2017-07-14 13:54:41.930     False\n",
       "21     20 2017-07-14 13:54:47.370     False\n",
       "22     20 2017-07-14 13:54:53.190     False\n",
       "23     20 2017-07-14 13:54:58.810     False\n",
       "24     20 2017-07-14 13:55:04.430     False\n",
       "25     20 2017-07-14 13:55:10.110     False\n",
       "26     20 2017-07-14 13:55:15.730     False\n",
       "27     30 2017-07-14 13:55:25.390     False\n",
       "28     20 2017-07-14 13:55:26.410     False\n",
       "29     20 2017-07-14 13:55:32.010     False\n",
       "..    ...                     ...       ...\n",
       "322    20 2017-07-14 14:25:19.950     False\n",
       "323    20 2017-07-14 14:25:25.570     False\n",
       "324    20 2017-07-14 14:25:31.170     False\n",
       "325    20 2017-07-14 14:25:36.810     False\n",
       "326    20 2017-07-14 14:25:42.450     False\n",
       "327    20 2017-07-14 14:25:48.270     False\n",
       "328    20 2017-07-14 14:25:53.870     False\n",
       "329    20 2017-07-14 14:25:59.470     False\n",
       "330    30 2017-07-14 14:26:10.330     False\n",
       "331    20 2017-07-14 14:26:11.350     False\n",
       "332    20 2017-07-14 14:26:16.970     False\n",
       "333    20 2017-07-14 14:26:22.570     False\n",
       "334    20 2017-07-14 14:26:28.190     False\n",
       "335    20 2017-07-14 14:26:33.990     False\n",
       "336    20 2017-07-14 14:26:39.610     False\n",
       "337    20 2017-07-14 14:26:45.230     False\n",
       "338    20 2017-07-14 14:26:50.890     False\n",
       "339    20 2017-07-14 14:26:56.490     False\n",
       "340    20 2017-07-14 14:27:02.290     False\n",
       "341    20 2017-07-14 14:27:07.790     False\n",
       "342    20 2017-07-14 14:27:13.590     False\n",
       "343    20 2017-07-14 14:27:19.250     False\n",
       "344    20 2017-07-14 14:27:24.890     False\n",
       "345    20 2017-07-14 14:27:30.490     False\n",
       "346    20 2017-07-14 14:27:36.110     False\n",
       "347    20 2017-07-14 14:27:41.710     False\n",
       "348    20 2017-07-14 14:27:47.510     False\n",
       "349    30 2017-07-14 14:27:59.930     False\n",
       "350    20 2017-07-14 14:28:01.130     False\n",
       "351   101 2017-07-14 14:28:01.130     False\n",
       "\n",
       "[352 rows x 3 columns]"
      ]
     },
     "execution_count": 53,
     "metadata": {},
     "output_type": "execute_result"
    }
   ],
   "source": [
    "# Double check that everything is right\n",
    "if sum(~correct_seq[seqCol].eq(event_df['event'])) > 0:\n",
    "    raise Exception(\"Something went wrong with the correction process... Try rerunning from the top or reexporing the event file\")\n",
    "\n",
    "#View the new data frame\n",
    "event_df"
   ]
  },
  {
   "cell_type": "markdown",
   "metadata": {
    "nbpresent": {
     "id": "27e6bca1-2c13-41df-b579-bfafc9de04a9"
    }
   },
   "source": [
    "# Calculate inter-event interval (IEI)"
   ]
  },
  {
   "cell_type": "code",
   "execution_count": 54,
   "metadata": {
    "collapsed": true,
    "nbpresent": {
     "id": "b8ae7ba0-a937-493a-8cd8-7d22455b7ef2"
    }
   },
   "outputs": [],
   "source": [
    "# Once the sequence has been verified correct, calculate the inter-event intervals in milliseconds. In the end only the\n",
    "# stimulus events should have iei values, and all other should be NaN. Note that some will have very low times because\n",
    "# it is calculating the time between the stimulus event and a block event which occur very close together\n",
    "event_df.loc[:, 'iei'] = pd.to_numeric(event_df.time.diff(), errors='ignore')\n",
    "event_df.loc[:, 'iei'] = event_df.loc[:, 'iei']/1000000\n",
    "event_df.loc[event_df['event'] != stim_val, 'iei'] = np.nan"
   ]
  },
  {
   "cell_type": "code",
   "execution_count": 55,
   "metadata": {
    "collapsed": false,
    "nbpresent": {
     "id": "8d29566a-ca91-4c4f-9dbf-c51be867f945"
    }
   },
   "outputs": [
    {
     "name": "stdout",
     "output_type": "stream",
     "text": [
      "Max IEI:  6040.0\n",
      "Min IEI:  1000.0\n",
      "Mean IEI:  5309.415384615385\n",
      "Median IEI:  5620.0\n"
     ]
    },
    {
     "data": {
      "image/png": "[encoded data removed]",
      "text/plain": [
       "<matplotlib.figure.Figure at 0x264fb5b8748>"
      ]
     },
     "metadata": {},
     "output_type": "display_data"
    }
   ],
   "source": [
    "# Plot histogram of IEI well as some descriptive stuff\n",
    "plt.figure()\n",
    "plt.xlabel('IEI time in milliseconds')\n",
    "plt.title('Histogram of event \"%s\" IEIs' %stim_val)\n",
    "# includes the condition that iei>=1000 because we do not want to include the events that occured right after the block start indicator\n",
    "event_df.loc[event_df.iei >= 1000, 'iei'].plot.hist()\n",
    "\n",
    "print(\"Max IEI: \",event_df.loc[event_df.iei >= 1000, 'iei'].max())\n",
    "print(\"Min IEI: \",event_df.loc[event_df.iei >= 1000, 'iei'].min())\n",
    "print(\"Mean IEI: \",event_df.loc[event_df.iei >= 1000, 'iei'].mean())\n",
    "print(\"Median IEI: \",event_df.loc[event_df.iei >= 1000, 'iei'].median())"
   ]
  },
  {
   "cell_type": "markdown",
   "metadata": {
    "nbpresent": {
     "id": "b86c6001-30d6-40c7-b386-4c2f1836d3ab"
    }
   },
   "source": [
    "## Calculate Latency\n",
    "Next, we need to determine what sampling point each event occurs at. This is needed for adding events in BrainVision Analyzer, the software used to analyze the EEG"
   ]
  },
  {
   "cell_type": "code",
   "execution_count": 56,
   "metadata": {
    "collapsed": false,
    "nbpresent": {
     "id": "4c8d21c6-685b-45cc-83ca-287d2b9943b1"
    }
   },
   "outputs": [
    {
     "name": "stdout",
     "output_type": "stream",
     "text": [
      "Head of point latencies: \n",
      " 0    14284.0\n",
      "1    14524.0\n",
      "2    16772.0\n",
      "3    19036.0\n",
      "4    21300.0\n",
      "Name: pointlatency, dtype: float64\n"
     ]
    }
   ],
   "source": [
    "# Calculate latency in milliseconds\n",
    "event_df.loc[:,'mslatency'] = pd.to_numeric((event_df.loc[:, 'time'] - eeg_start_recording)/1000000)\n",
    "# Samp frequency of 400Hz means .4 samples per ms\n",
    "# So to calculate the \"sample\" or \"points\" latency I need to multiply the ms latency by .4\n",
    "event_df.loc[:, 'pointlatency'] = event_df.loc[:, 'mslatency'] * .4\n",
    "\n",
    "print(\"Head of point latencies: \\n\", event_df.pointlatency.head())"
   ]
  },
  {
   "cell_type": "markdown",
   "metadata": {
    "nbpresent": {
     "id": "4163fa4a-c14c-46a2-8f98-a6917730079e"
    }
   },
   "source": [
    "## Export Results"
   ]
  },
  {
   "cell_type": "code",
   "execution_count": 57,
   "metadata": {
    "collapsed": false,
    "nbpresent": {
     "id": "31a6b996-1342-4930-aa59-673df896562c"
    }
   },
   "outputs": [],
   "source": [
    "corrections = [\n",
    "    ['start_missing: ', log_start_missing],\n",
    "    ['drop_after:', log_drop_after],\n",
    "    ['inserted_blocks:', log_inserted_vals],\n",
    "    ['ends_early:', log_ends_early],\n",
    "    ['events_appended:', log_num_of_events_appended]]\n",
    "\n",
    "if export:\n",
    "    event_df.to_csv(path_or_buf= participant_path + '/%(pNum)02d%(seq)sTwinProcessed.csv' % pathdict)\n",
    "    with open(participant_path + '/%(pNum)02d%(seq)sTwinCorrectionsLog.csv' % pathdict, 'w') as corrections_file:\n",
    "        wr = csv.writer(corrections_file, lineterminator='\\n')\n",
    "        for corr in corrections:\n",
    "            wr.writerow(corr)"
   ]
  },
  {
   "cell_type": "code",
   "execution_count": null,
   "metadata": {
    "collapsed": true,
    "nbpresent": {
     "id": "1021e022-c64e-4f41-9c54-c3f86fb76a02"
    }
   },
   "outputs": [],
   "source": []
  },
  {
   "cell_type": "code",
   "execution_count": null,
   "metadata": {
    "collapsed": true,
    "nbpresent": {
     "id": "6117df72-ce08-405d-be8a-6479d87077ff"
    }
   },
   "outputs": [],
   "source": []
  }
 ],
 "metadata": {
  "anaconda-cloud": {},
  "kernelspec": {
   "display_name": "Python [default]",
   "language": "python",
   "name": "python3"
  },
  "language_info": {
   "codemirror_mode": {
    "name": "ipython",
    "version": 3
   },
   "file_extension": ".py",
   "mimetype": "text/x-python",
   "name": "python",
   "nbconvert_exporter": "python",
   "pygments_lexer": "ipython3",
   "version": "3.5.2"
  },
  "nbpresent": {
   "slides": {
    "0393a5e9-287d-41cf-bf1e-63c9a4ba9abf": {
     "id": "0393a5e9-287d-41cf-bf1e-63c9a4ba9abf",
     "prev": "69addee5-b082-430d-a1f7-266300169f7d",
     "regions": {
      "9dc559c6-fe7d-42c2-8e61-074230dcd3d6": {
       "attrs": {
        "height": 0.8,
        "width": 0.8,
        "x": 0.1,
        "y": 0.1
       },
       "content": {
        "cell": "42830c7f-9bd5-4f1f-ac63-832afb58207e",
        "part": "whole"
       },
       "id": "9dc559c6-fe7d-42c2-8e61-074230dcd3d6"
      }
     }
    },
    "07a77b41-dceb-4943-88bc-cf92ad4f4ddd": {
     "id": "07a77b41-dceb-4943-88bc-cf92ad4f4ddd",
     "prev": "2e3c2543-0fd1-4c26-a92e-ef4a4a437f99",
     "regions": {
      "77b1039f-cdd3-4bd3-be05-186d5a8e2eb0": {
       "attrs": {
        "height": 0.8,
        "width": 0.8,
        "x": 0.1,
        "y": 0.1
       },
       "content": {
        "cell": "85d74068-60de-4aa5-93b0-e8a2500c66e0",
        "part": "whole"
       },
       "id": "77b1039f-cdd3-4bd3-be05-186d5a8e2eb0"
      }
     }
    },
    "15ff32f7-608c-438b-b37b-391491d6e44b": {
     "id": "15ff32f7-608c-438b-b37b-391491d6e44b",
     "prev": "6a27f57e-f455-4145-bcca-2a45c0329daf",
     "regions": {
      "9a99b412-e2e7-497c-adb9-e5ad587b9fda": {
       "attrs": {
        "height": 0.8,
        "width": 0.8,
        "x": 0.1,
        "y": 0.1
       },
       "content": {
        "cell": "b8ae7ba0-a937-493a-8cd8-7d22455b7ef2",
        "part": "whole"
       },
       "id": "9a99b412-e2e7-497c-adb9-e5ad587b9fda"
      }
     }
    },
    "1b73411b-ee74-4a25-8b5d-8e521c085075": {
     "id": "1b73411b-ee74-4a25-8b5d-8e521c085075",
     "prev": "0393a5e9-287d-41cf-bf1e-63c9a4ba9abf",
     "regions": {
      "636b156f-27e3-495a-b16a-2fa32d5fd31f": {
       "attrs": {
        "height": 0.8,
        "width": 0.8,
        "x": 0.1,
        "y": 0.1
       },
       "content": {
        "cell": "e47f8130-9be5-4ede-b92c-f3b2aaa1a6d8",
        "part": "whole"
       },
       "id": "636b156f-27e3-495a-b16a-2fa32d5fd31f"
      }
     }
    },
    "2e3c2543-0fd1-4c26-a92e-ef4a4a437f99": {
     "id": "2e3c2543-0fd1-4c26-a92e-ef4a4a437f99",
     "prev": "639f5019-9f9b-484d-832c-f45461011f20",
     "regions": {
      "b7aa7b17-4fc9-439d-ad0d-2744e9cd659b": {
       "attrs": {
        "height": 0.8,
        "width": 0.8,
        "x": 0.1,
        "y": 0.1
       },
       "content": {
        "cell": "2826b7f6-2f9f-467c-8b8e-214d2931f90b",
        "part": "whole"
       },
       "id": "b7aa7b17-4fc9-439d-ad0d-2744e9cd659b"
      }
     }
    },
    "387630f7-2ab5-4da2-9345-47d03198145c": {
     "id": "387630f7-2ab5-4da2-9345-47d03198145c",
     "prev": null,
     "regions": {
      "2febe78f-692b-46d4-a7d3-b15195a1d1e4": {
       "attrs": {
        "height": 0.8,
        "width": 0.8,
        "x": 0.1,
        "y": 0.1
       },
       "content": {
        "cell": "066fe798-0bed-4400-b75d-161345c2a7a3",
        "part": "whole"
       },
       "id": "2febe78f-692b-46d4-a7d3-b15195a1d1e4"
      }
     }
    },
    "4a205f66-8f4a-4f73-a63e-8ee819b689f3": {
     "id": "4a205f66-8f4a-4f73-a63e-8ee819b689f3",
     "prev": "ae263778-a5a0-4db2-890e-65e3596b330c",
     "regions": {
      "2019a063-0e3e-40b0-b925-b256a5128aba": {
       "attrs": {
        "height": 0.8,
        "width": 0.8,
        "x": 0.1,
        "y": 0.1
       },
       "content": {
        "cell": "4c8d21c6-685b-45cc-83ca-287d2b9943b1",
        "part": "whole"
       },
       "id": "2019a063-0e3e-40b0-b925-b256a5128aba"
      }
     }
    },
    "5cf5e03a-69fe-4839-991f-4ad76a338e97": {
     "id": "5cf5e03a-69fe-4839-991f-4ad76a338e97",
     "prev": "15ff32f7-608c-438b-b37b-391491d6e44b",
     "regions": {
      "4394f397-eaed-496f-982b-e80d8ed66049": {
       "attrs": {
        "height": 0.8,
        "width": 0.8,
        "x": 0.1,
        "y": 0.1
       },
       "content": {
        "cell": "8d29566a-ca91-4c4f-9dbf-c51be867f945",
        "part": "whole"
       },
       "id": "4394f397-eaed-496f-982b-e80d8ed66049"
      }
     }
    },
    "5ecaa92c-d4f1-4f8b-9749-0726a834f385": {
     "id": "5ecaa92c-d4f1-4f8b-9749-0726a834f385",
     "prev": "07a77b41-dceb-4943-88bc-cf92ad4f4ddd",
     "regions": {
      "50ba113b-95f8-4ae9-a950-51dadbeaa30c": {
       "attrs": {
        "height": 0.8,
        "width": 0.8,
        "x": 0.1,
        "y": 0.1
       },
       "content": {
        "cell": "f24879a7-3ef6-429b-a49a-4c7349567687",
        "part": "whole"
       },
       "id": "50ba113b-95f8-4ae9-a950-51dadbeaa30c"
      }
     }
    },
    "639f5019-9f9b-484d-832c-f45461011f20": {
     "id": "639f5019-9f9b-484d-832c-f45461011f20",
     "prev": "a9444aa7-03e9-4e88-af9a-c8c7232efc9d",
     "regions": {
      "082c4441-61d3-407b-a289-b60acdf7ed66": {
       "attrs": {
        "height": 0.8,
        "width": 0.8,
        "x": 0.1,
        "y": 0.1
       },
       "content": {
        "cell": "275f0353-f715-4eec-8c2b-7ed237fd0497",
        "part": "whole"
       },
       "id": "082c4441-61d3-407b-a289-b60acdf7ed66"
      }
     }
    },
    "69addee5-b082-430d-a1f7-266300169f7d": {
     "id": "69addee5-b082-430d-a1f7-266300169f7d",
     "prev": "387630f7-2ab5-4da2-9345-47d03198145c",
     "regions": {
      "f1deab6c-deb7-4208-b7cc-d5ec951ecad4": {
       "attrs": {
        "height": 0.8,
        "width": 0.8,
        "x": 0.1,
        "y": 0.1
       },
       "content": {
        "cell": "ee7b1ec7-1d0b-4f50-9799-7ea651a98957",
        "part": "whole"
       },
       "id": "f1deab6c-deb7-4208-b7cc-d5ec951ecad4"
      }
     }
    },
    "6a27f57e-f455-4145-bcca-2a45c0329daf": {
     "id": "6a27f57e-f455-4145-bcca-2a45c0329daf",
     "prev": "71e4487e-6d25-49d0-ba5f-bb5e1e60002c",
     "regions": {
      "f1456f10-e059-4320-88fd-6eb442872b06": {
       "attrs": {
        "height": 0.8,
        "width": 0.8,
        "x": 0.1,
        "y": 0.1
       },
       "content": {
        "cell": "27e6bca1-2c13-41df-b579-bfafc9de04a9",
        "part": "whole"
       },
       "id": "f1456f10-e059-4320-88fd-6eb442872b06"
      }
     }
    },
    "71e4487e-6d25-49d0-ba5f-bb5e1e60002c": {
     "id": "71e4487e-6d25-49d0-ba5f-bb5e1e60002c",
     "prev": "5ecaa92c-d4f1-4f8b-9749-0726a834f385",
     "regions": {
      "2c1c1d9e-a231-4cd2-aad7-429de4ec664a": {
       "attrs": {
        "height": 0.8,
        "width": 0.8,
        "x": 0.1,
        "y": 0.1
       },
       "content": {
        "cell": "ebec961b-102e-4b97-b537-bbbc5d002852",
        "part": "whole"
       },
       "id": "2c1c1d9e-a231-4cd2-aad7-429de4ec664a"
      }
     }
    },
    "7de8cdff-80f3-4f4f-9106-0dde6e4441e6": {
     "id": "7de8cdff-80f3-4f4f-9106-0dde6e4441e6",
     "prev": "4a205f66-8f4a-4f73-a63e-8ee819b689f3",
     "regions": {
      "a52508eb-e93b-40b4-b6e7-b5668cb0f2f6": {
       "attrs": {
        "height": 0.8,
        "width": 0.8,
        "x": 0.1,
        "y": 0.1
       },
       "content": {
        "cell": "4163fa4a-c14c-46a2-8f98-a6917730079e",
        "part": "whole"
       },
       "id": "a52508eb-e93b-40b4-b6e7-b5668cb0f2f6"
      }
     }
    },
    "8ceb653e-9d5f-4618-9ceb-2cc33d035512": {
     "id": "8ceb653e-9d5f-4618-9ceb-2cc33d035512",
     "prev": "7de8cdff-80f3-4f4f-9106-0dde6e4441e6",
     "regions": {
      "bf6203a6-1e2f-42f3-9b37-e497654dc55f": {
       "attrs": {
        "height": 0.8,
        "width": 0.8,
        "x": 0.1,
        "y": 0.1
       },
       "content": {
        "cell": "31a6b996-1342-4930-aa59-673df896562c",
        "part": "whole"
       },
       "id": "bf6203a6-1e2f-42f3-9b37-e497654dc55f"
      }
     }
    },
    "92fba006-a377-4d64-ae50-c518c6015e31": {
     "id": "92fba006-a377-4d64-ae50-c518c6015e31",
     "prev": "8ceb653e-9d5f-4618-9ceb-2cc33d035512",
     "regions": {
      "8c6d1936-97c1-4b3c-8c2a-2561a84096cc": {
       "attrs": {
        "height": 0.8,
        "width": 0.8,
        "x": 0.1,
        "y": 0.1
       },
       "content": {
        "cell": "1021e022-c64e-4f41-9c54-c3f86fb76a02",
        "part": "whole"
       },
       "id": "8c6d1936-97c1-4b3c-8c2a-2561a84096cc"
      }
     }
    },
    "94e40bdb-55c0-408c-ab8d-efdbf1b487af": {
     "id": "94e40bdb-55c0-408c-ab8d-efdbf1b487af",
     "prev": "e471058a-5420-4f95-863e-e0cd3cff1298",
     "regions": {
      "c68524bc-7e91-4951-88f3-cdd34b6c1d4e": {
       "attrs": {
        "height": 0.8,
        "width": 0.8,
        "x": 0.1,
        "y": 0.1
       },
       "content": {
        "cell": "071772ab-213b-4980-abfc-7406efb2b219",
        "part": "whole"
       },
       "id": "c68524bc-7e91-4951-88f3-cdd34b6c1d4e"
      }
     }
    },
    "a45061f1-260c-4dc6-bbc5-f387968cc71d": {
     "id": "a45061f1-260c-4dc6-bbc5-f387968cc71d",
     "prev": "92fba006-a377-4d64-ae50-c518c6015e31",
     "regions": {
      "b905f09c-b892-4687-8347-82f10d89b49b": {
       "attrs": {
        "height": 0.8,
        "width": 0.8,
        "x": 0.1,
        "y": 0.1
       },
       "content": {
        "cell": "6117df72-ce08-405d-be8a-6479d87077ff",
        "part": "whole"
       },
       "id": "b905f09c-b892-4687-8347-82f10d89b49b"
      }
     }
    },
    "a9444aa7-03e9-4e88-af9a-c8c7232efc9d": {
     "id": "a9444aa7-03e9-4e88-af9a-c8c7232efc9d",
     "prev": "94e40bdb-55c0-408c-ab8d-efdbf1b487af",
     "regions": {
      "862ed650-38a7-4637-8d27-2fc3c4d11ae6": {
       "attrs": {
        "height": 0.8,
        "width": 0.8,
        "x": 0.1,
        "y": 0.1
       },
       "content": {
        "cell": "5bdef2ce-8163-4e79-8d59-0cee7ec3dffb",
        "part": "whole"
       },
       "id": "862ed650-38a7-4637-8d27-2fc3c4d11ae6"
      }
     }
    },
    "ae263778-a5a0-4db2-890e-65e3596b330c": {
     "id": "ae263778-a5a0-4db2-890e-65e3596b330c",
     "prev": "5cf5e03a-69fe-4839-991f-4ad76a338e97",
     "regions": {
      "a6b95df8-97eb-42b3-b2b0-c614c57349ee": {
       "attrs": {
        "height": 0.8,
        "width": 0.8,
        "x": 0.1,
        "y": 0.1
       },
       "content": {
        "cell": "b86c6001-30d6-40c7-b386-4c2f1836d3ab",
        "part": "whole"
       },
       "id": "a6b95df8-97eb-42b3-b2b0-c614c57349ee"
      }
     }
    },
    "c3824683-a459-4a65-8ffd-3c3727c1b9f8": {
     "id": "c3824683-a459-4a65-8ffd-3c3727c1b9f8",
     "prev": "1b73411b-ee74-4a25-8b5d-8e521c085075",
     "regions": {
      "a6a3429d-61b6-4417-b73b-38addcd94fb5": {
       "attrs": {
        "height": 0.8,
        "width": 0.8,
        "x": 0.1,
        "y": 0.1
       },
       "content": {
        "cell": "eb8f5a77-e8bd-4046-be61-57c242c9efec",
        "part": "whole"
       },
       "id": "a6a3429d-61b6-4417-b73b-38addcd94fb5"
      }
     }
    },
    "e471058a-5420-4f95-863e-e0cd3cff1298": {
     "id": "e471058a-5420-4f95-863e-e0cd3cff1298",
     "prev": "c3824683-a459-4a65-8ffd-3c3727c1b9f8",
     "regions": {
      "a58c51aa-7efa-4247-a5d5-bd402f8e7e67": {
       "attrs": {
        "height": 0.8,
        "width": 0.8,
        "x": 0.1,
        "y": 0.1
       },
       "content": {
        "cell": "5f630fdd-330a-441e-bdaf-3dd67949eb2a",
        "part": "whole"
       },
       "id": "a58c51aa-7efa-4247-a5d5-bd402f8e7e67"
      }
     }
    }
   },
   "themes": {}
  }
 },
 "nbformat": 4,
 "nbformat_minor": 1
}
